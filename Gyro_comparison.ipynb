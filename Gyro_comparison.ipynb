{
  "cells": [
    {
      "cell_type": "code",
      "execution_count": 21,
      "metadata": {
        "id": "85sg_EuIIzmt"
      },
      "outputs": [],
      "source": [
        "import matplotlib.pyplot as plt\n",
        "import numpy as np\n",
        "from scipy.fft import fft, ifft, fftfreq\n",
        "#import pandas as pd\n",
        "from scipy.signal import lombscargle\n",
        "rng = np.random.default_rng()"
      ]
    },
    {
      "cell_type": "code",
      "execution_count": 22,
      "metadata": {
        "colab": {
          "base_uri": "https://localhost:8080/",
          "height": 448
        },
        "id": "oTDsPLf4OaOj",
        "outputId": "88852b36-2a9d-44d6-e119-2dda4e1a3ec2"
      },
      "outputs": [
        {
          "data": {
            "text/plain": [
              "'#y = A * np.cos(w0*x)\\nplt.plot(x,y);\\nnp.random.seed(3)\\nerr = np.random.normal(scale=NoiseScale,size=pts)\\ny_err = y + err\\n'"
            ]
          },
          "execution_count": 22,
          "metadata": {},
          "output_type": "execute_result"
        }
      ],
      "source": [
        "days = 20 #duration of the observation (in days)\n",
        "dt = 60/86400 #time step between observations\n",
        "x = np.arange(0,days,dt)\n",
        "pts = len(x)\n",
        "\n",
        "NoiseScale = 2\n",
        "#NoiseScale = np.arange(0,5.05,0.5)\n",
        "#A = 4.0\n",
        "A = np.arange(1,8.05,0.2)\n",
        "w0 = 2\n",
        "\n",
        "for i in range(len(A)):\n",
        "    if i == 0:\n",
        "        y = np.array([A[i]*np.sin(w0*x)])\n",
        "    else:\n",
        "        y = np.append(y,[A[i]*np.sin(w0*x)],axis=0)\n",
        "\n",
        "\"\"\"#y = A * np.cos(w0*x)\n",
        "plt.plot(x,y);\n",
        "np.random.seed(3)\n",
        "err = np.random.normal(scale=NoiseScale,size=pts)\n",
        "y_err = y + err\n",
        "\"\"\""
      ]
    },
    {
      "cell_type": "code",
      "execution_count": 23,
      "metadata": {
        "id": "g55iodjUYQSi"
      },
      "outputs": [],
      "source": [
        "def Luca_LombScargle(x,y_err,w0,nout):\n",
        "  import numpy as np\n",
        "  from scipy.signal import lombscargle\n",
        "  w = np.linspace(0.01, 10, nout)\n",
        "  err = np.random.normal(scale=NoiseScale,size=pts)\n",
        "  y_err = y + err\n",
        "  pgram = lombscargle(x, y_err, w, normalize=True)\n",
        "  fig, (ax_t, ax_w) = plt.subplots(2, 1, constrained_layout=True)\n",
        "  ax_t.plot(x, y_err, 'b+')\n",
        "  ax_t.set_xlabel('Time [s]')\n",
        "\n",
        "  ax_w.plot(w, pgram)\n",
        "  ax_w.set_xlabel('Angular frequency [rad/s]')\n",
        "  ax_w.set_ylabel('Normalized amplitude')\n",
        "  plt.show()\n",
        "  periodDet = w[np.argmax(pgram)]\n",
        "  print(f\"The period determination is: {periodDet}\")\n",
        "  print(f\"The absolute error is: {abs(w0-periodDet)}\")\n",
        "  print(f\"The percent error is {100*(abs(w0-periodDet)/w0)}%\")"
      ]
    },
    {
      "cell_type": "code",
      "execution_count": 24,
      "metadata": {
        "id": "SI99mrktuI_o"
      },
      "outputs": [],
      "source": [
        "def error_LombScargle(x,y_err,w0,nout,NoiseScale):\n",
        "  import numpy as np\n",
        "  from scipy.signal import lombscargle\n",
        "\n",
        "  percentErr = np.array([])\n",
        "  absErr = np.array([])\n",
        "  for i in range(len(NoiseScale)):\n",
        "    w = np.linspace(0.01, 10, nout)\n",
        "    err = np.random.normal(scale=NoiseScale[i],size=len(x))\n",
        "    y_err = y + err\n",
        "    pgram = lombscargle(x, y_err, w, normalize=True)\n",
        "\n",
        "    periodDet = w[np.argmax(pgram)]\n",
        "    \"\"\"\n",
        "    print(f\"The period determination is: {periodDet}\")\n",
        "    print(f\"The absolute error is: {abs(w0-periodDet)}\")\n",
        "    print(f\"The percent error is: {100*(abs(w0-periodDet)/w0)}\")\n",
        "    \"\"\"\n",
        "    percentErr = np.append(percentErr,100*(abs(w0-periodDet)/w0))\n",
        "    absErr = np.append(absErr,abs(w0-periodDet))\n",
        "\n",
        "  return absErr, percentErr"
      ]
    },
    {
      "cell_type": "code",
      "execution_count": 25,
      "metadata": {},
      "outputs": [],
      "source": [
        "def amp_LombScargle(x,y_array,A,w0,nout,NoiseScale):\n",
        "  import numpy as np\n",
        "  from scipy.signal import lombscargle\n",
        "\n",
        "  percentErr = np.array([])\n",
        "  absErr = np.array([])\n",
        "  for i in range(len(A)):\n",
        "    y = y_array[i,:]\n",
        "    np.random.seed(3)\n",
        "    w = np.linspace(0.01, 10, nout)\n",
        "    err = np.random.normal(scale=NoiseScale,size=len(x))\n",
        "    y_err = y + err\n",
        "    pgram = lombscargle(x, y_err, w, normalize=True)\n",
        "\n",
        "    periodDet = w[np.argmax(pgram)]\n",
        "    \"\"\"\n",
        "    print(f\"The period determination is: {periodDet}\")\n",
        "    print(f\"The absolute error is: {abs(w0-periodDet)}\")\n",
        "    print(f\"The percent error is: {100*(abs(w0-periodDet)/w0)}\")\n",
        "    \"\"\"\n",
        "    percentErr = np.append(percentErr,100*(abs(w0-periodDet)/w0))\n",
        "    absErr = np.append(absErr,abs(w0-periodDet))\n",
        "\n",
        "  return absErr, percentErr"
      ]
    },
    {
      "cell_type": "code",
      "execution_count": 26,
      "metadata": {
        "colab": {
          "base_uri": "https://localhost:8080/",
          "height": 448
        },
        "id": "QT6zN9v0twv3",
        "outputId": "89d7e1c8-6890-47ef-bda7-3076f90a151b"
      },
      "outputs": [],
      "source": [
        "#absErr, percentErr = error_LombScargle(x,y,w0,1000,NoiseScale)"
      ]
    },
    {
      "cell_type": "code",
      "execution_count": 27,
      "metadata": {},
      "outputs": [],
      "source": [
        "\"\"\"\n",
        "absErr, percentErr = amp_LombScargle(x,y,A,w0,100000,NoiseScale)\n",
        "Try to segment this into multiple different cells, or port over to colab.\n",
        "\"\"\""
      ]
    },
    {
      "cell_type": "code",
      "execution_count": null,
      "metadata": {
        "colab": {
          "base_uri": "https://localhost:8080/"
        },
        "id": "hYvKzCwJzxbz",
        "outputId": "50e62c2e-1559-4d41-fcb5-fcc5e9299a43"
      },
      "outputs": [
        {
          "data": {
            "text/plain": [
              "<matplotlib.collections.PathCollection at 0x23aaa210a90>"
            ]
          },
          "execution_count": 8,
          "metadata": {},
          "output_type": "execute_result"
        },
        {
          "data": {
            "image/png": "[encoded data removed]",
            "text/plain": [
              "<Figure size 640x480 with 1 Axes>"
            ]
          },
          "metadata": {},
          "output_type": "display_data"
        }
      ],
      "source": [
        "#plt.scatter(A,percentErr)"
      ]
    },
    {
      "cell_type": "code",
      "execution_count": null,
      "metadata": {
        "colab": {
          "base_uri": "https://localhost:8080/",
          "height": 561
        },
        "id": "q0nw2q-taX0f",
        "outputId": "1fdf8152-e6c8-4a81-dc19-202c0c1e9a14"
      },
      "outputs": [],
      "source": [
        "# Luca_LombScargle(x,y,w0,10000,NoiseScale)"
      ]
    },
    {
      "cell_type": "markdown",
      "metadata": {
        "id": "IXoeS18ZLQYw"
      },
      "source": [
        "# Fourier transform (requires uniform data, might turn into Wavelet) (Benched)"
      ]
    },
    {
      "cell_type": "code",
      "execution_count": null,
      "metadata": {
        "colab": {
          "base_uri": "https://localhost:8080/",
          "height": 448
        },
        "id": "3UWbxDjWI_ul",
        "outputId": "220846e2-80cd-4ccb-b976-9ded90eacc88"
      },
      "outputs": [
        {
          "data": {
            "text/plain": [
              "'yf = fft(y_err)\\nT = 13/pts\\nxf = fftfreq(pts, T)[:pts//2]\\nplt.plot(xf, 13.0/pts * np.abs(yf[0:pts//2]))\\nplt.xlim(0,2)\\nmax(13.0/pts * np.abs(yf[0:pts//2]))'"
            ]
          },
          "execution_count": 10,
          "metadata": {},
          "output_type": "execute_result"
        }
      ],
      "source": [
        "\"\"\"yf = fft(y_err)\n",
        "T = 13/pts\n",
        "xf = fftfreq(pts, T)[:pts//2]\n",
        "plt.plot(xf, 13.0/pts * np.abs(yf[0:pts//2]))\n",
        "plt.xlim(0,2)\n",
        "max(13.0/pts * np.abs(yf[0:pts//2]))\"\"\""
      ]
    },
    {
      "cell_type": "markdown",
      "metadata": {
        "id": "-iv8itq5LrTk"
      },
      "source": [
        "# Autocorrelation section (Benched)"
      ]
    },
    {
      "cell_type": "code",
      "execution_count": null,
      "metadata": {
        "id": "R9FcOx8QI--r"
      },
      "outputs": [],
      "source": [
        "def Autocorr(y):\n",
        "  y_series = pd.Series(y)\n",
        "  ACF = []\n",
        "  for i in range(len(y)):\n",
        "    ACF = np.append(ACF,y_series.autocorr(lag=i))\n",
        "#  plt.plot(ACF)\n",
        "#  return ACF\n",
        "  acceptedVar = []\n",
        "  for i in range(len(ACF)):\n",
        "      if ACF[i] > 0.05:\n",
        "          acceptedVar = np.append(acceptedVar, ACF[i])\n",
        "  plt.plot(ACF)\n",
        "  return ACF"
      ]
    },
    {
      "cell_type": "code",
      "execution_count": null,
      "metadata": {
        "colab": {
          "base_uri": "https://localhost:8080/",
          "height": 519
        },
        "id": "KK4VJ3CdJEiY",
        "outputId": "328ff94a-4ac6-4d0e-96ec-88c95c5237fb"
      },
      "outputs": [
        {
          "data": {
            "text/plain": [
              "'y_series = Autocorr(y_err)\\nmax(y_series[500:-1000])'"
            ]
          },
          "execution_count": 12,
          "metadata": {},
          "output_type": "execute_result"
        }
      ],
      "source": [
        "\"\"\"y_series = Autocorr(y_err)\n",
        "max(y_series[500:-1000])\"\"\""
      ]
    },
    {
      "cell_type": "markdown",
      "metadata": {
        "id": "wxPOMkfTJ4yg"
      },
      "source": [
        "# Lomb-Scargle section"
      ]
    },
    {
      "cell_type": "code",
      "execution_count": null,
      "metadata": {
        "id": "mLs_Y8FQaXj7"
      },
      "outputs": [],
      "source": []
    },
    {
      "cell_type": "code",
      "execution_count": null,
      "metadata": {
        "id": "tBlPjDhYGsbI"
      },
      "outputs": [],
      "source": [
        "# rng = np.random.default_rng()"
      ]
    },
    {
      "cell_type": "code",
      "execution_count": null,
      "metadata": {
        "id": "UCOPi69pGgrS"
      },
      "outputs": [
        {
          "data": {
            "text/plain": [
              "'A = 3.\\nw0 = 2.  # rad/sec\\nnin = pts\\nnout = 100000'"
            ]
          },
          "execution_count": 14,
          "metadata": {},
          "output_type": "execute_result"
        }
      ],
      "source": [
        "\"\"\"A = 3.\n",
        "w0 = 2.  # rad/sec\n",
        "nin = pts\n",
        "nout = 100000\"\"\""
      ]
    },
    {
      "cell_type": "code",
      "execution_count": null,
      "metadata": {
        "id": "GQoNKKJ0HFkR"
      },
      "outputs": [
        {
          "data": {
            "text/plain": [
              "'NoiseScale=3.0\\nerr = np.random.normal(scale=NoiseScale,size=pts)'"
            ]
          },
          "execution_count": 15,
          "metadata": {},
          "output_type": "execute_result"
        }
      ],
      "source": [
        "\"\"\"NoiseScale=3.0\n",
        "err = np.random.normal(scale=NoiseScale,size=pts)\"\"\""
      ]
    },
    {
      "cell_type": "code",
      "execution_count": null,
      "metadata": {
        "id": "eUL3rWm7GmDK"
      },
      "outputs": [
        {
          "data": {
            "text/plain": [
              "'y = A * np.cos(w0*x)\\ny_err = y + err\\nw = np.linspace(0.01, 10, nout)'"
            ]
          },
          "execution_count": 16,
          "metadata": {},
          "output_type": "execute_result"
        }
      ],
      "source": [
        "\"\"\"y = A * np.cos(w0*x)\n",
        "y_err = y + err\n",
        "w = np.linspace(0.01, 10, nout)\"\"\""
      ]
    },
    {
      "cell_type": "code",
      "execution_count": null,
      "metadata": {
        "id": "5c1cGI7gGyqk"
      },
      "outputs": [],
      "source": [
        "# pgram = lombscargle(x, y_err, w, normalize=True)"
      ]
    },
    {
      "cell_type": "code",
      "execution_count": null,
      "metadata": {
        "colab": {
          "base_uri": "https://localhost:8080/",
          "height": 526
        },
        "id": "BLn20RvcG8Sf",
        "outputId": "13000802-a89f-483f-81c9-5dcc08ad0f44"
      },
      "outputs": [
        {
          "data": {
            "text/plain": [
              "'fig, (ax_t, ax_w) = plt.subplots(2, 1, constrained_layout=True)\\nax_t.plot(x, y_err, \\'b+\\')\\nax_t.set_xlabel(\\'Time [s]\\')\\n\\nax_w.plot(w, pgram)\\nax_w.set_xlabel(\\'Angular frequency [rad/s]\\')\\nax_w.set_ylabel(\\'Normalized amplitude\\')\\nplt.show()\\nperiodDet = w[np.argmax(pgram)]\\nprint(f\"The period determination is: {periodDet}\")'"
            ]
          },
          "execution_count": 18,
          "metadata": {},
          "output_type": "execute_result"
        }
      ],
      "source": [
        "\"\"\"fig, (ax_t, ax_w) = plt.subplots(2, 1, constrained_layout=True)\n",
        "ax_t.plot(x, y_err, 'b+')\n",
        "ax_t.set_xlabel('Time [s]')\n",
        "\n",
        "ax_w.plot(w, pgram)\n",
        "ax_w.set_xlabel('Angular frequency [rad/s]')\n",
        "ax_w.set_ylabel('Normalized amplitude')\n",
        "plt.show()\n",
        "periodDet = w[np.argmax(pgram)]\n",
        "print(f\"The period determination is: {periodDet}\")\"\"\""
      ]
    },
    {
      "cell_type": "code",
      "execution_count": null,
      "metadata": {
        "colab": {
          "base_uri": "https://localhost:8080/"
        },
        "id": "0mG_Yo6EJ7ZO",
        "outputId": "bdc9fa34-cb41-498c-be71-1053d4e1edc4"
      },
      "outputs": [
        {
          "data": {
            "text/plain": [
              "'print(f\"The absolute error is: {abs(w0-periodDet)}\")\\nprint(f\"The percent error is {100*(abs(w0-periodDet)/w0)}%\")'"
            ]
          },
          "execution_count": 19,
          "metadata": {},
          "output_type": "execute_result"
        }
      ],
      "source": [
        "\"\"\"print(f\"The absolute error is: {abs(w0-periodDet)}\")\n",
        "print(f\"The percent error is {100*(abs(w0-periodDet)/w0)}%\")\"\"\""
      ]
    },
    {
      "cell_type": "code",
      "execution_count": null,
      "metadata": {
        "colab": {
          "base_uri": "https://localhost:8080/"
        },
        "id": "hO17p5idPJPW",
        "outputId": "eaf6acb4-f235-47e1-bda5-68be7ccada19"
      },
      "outputs": [],
      "source": [
        "#len(x)"
      ]
    }
  ],
  "metadata": {
    "colab": {
      "provenance": []
    },
    "kernelspec": {
      "display_name": "Python 3",
      "name": "python3"
    },
    "language_info": {
      "codemirror_mode": {
        "name": "ipython",
        "version": 3
      },
      "file_extension": ".py",
      "mimetype": "text/x-python",
      "name": "python",
      "nbconvert_exporter": "python",
      "pygments_lexer": "ipython3",
      "version": "3.11.5"
    }
  },
  "nbformat": 4,
  "nbformat_minor": 0
}
